{
 "cells": [
  {
   "cell_type": "code",
   "execution_count": 8,
   "metadata": {},
   "outputs": [
    {
     "name": "stderr",
     "output_type": "stream",
     "text": [
      "[ WARN:0@1164.826] global /io/opencv/modules/imgcodecs/src/loadsave.cpp (239) findDecoder imread_('aachen_000001_000019_leftImg8bit.jpg'): can't open/read file: check file path/integrity\n"
     ]
    },
    {
     "ename": "error",
     "evalue": "OpenCV(4.6.0) /io/opencv/modules/imgproc/src/color.cpp:182: error: (-215:Assertion failed) !_src.empty() in function 'cvtColor'\n",
     "output_type": "error",
     "traceback": [
      "\u001b[0;31m---------------------------------------------------------------------------\u001b[0m",
      "\u001b[0;31merror\u001b[0m                                     Traceback (most recent call last)",
      "Cell \u001b[0;32mIn [8], line 8\u001b[0m\n\u001b[1;32m      6\u001b[0m image \u001b[39m=\u001b[39m cv2\u001b[39m.\u001b[39mimread(\u001b[39m\"\u001b[39m\u001b[39maachen_000001_000019_leftImg8bit.jpg\u001b[39m\u001b[39m\"\u001b[39m)\n\u001b[1;32m      7\u001b[0m \u001b[39m# convert to RGB\u001b[39;00m\n\u001b[0;32m----> 8\u001b[0m image \u001b[39m=\u001b[39m cv2\u001b[39m.\u001b[39;49mcvtColor(image, cv2\u001b[39m.\u001b[39;49mCOLOR_BGR2RGB)\n\u001b[1;32m      9\u001b[0m \u001b[39m# reshape the image to a 2D array of pixels and 3 color values (RGB)\u001b[39;00m\n\u001b[1;32m     10\u001b[0m pixel_values \u001b[39m=\u001b[39m image\u001b[39m.\u001b[39mreshape((\u001b[39m-\u001b[39m\u001b[39m1\u001b[39m, \u001b[39m3\u001b[39m))\n",
      "\u001b[0;31merror\u001b[0m: OpenCV(4.6.0) /io/opencv/modules/imgproc/src/color.cpp:182: error: (-215:Assertion failed) !_src.empty() in function 'cvtColor'\n"
     ]
    }
   ],
   "source": [
    "import cv2\n",
    "import numpy as np\n",
    "import matplotlib.pyplot as plt\n",
    "\n",
    "\n",
    "image = cv2.imread(\"aachen_000001_000019_leftImg8bit.jpg\")\n",
    "# convert to RGB\n",
    "image = cv2.cvtColor(image, cv2.COLOR_BGR2RGB)\n",
    "# reshape the image to a 2D array of pixels and 3 color values (RGB)\n",
    "pixel_values = image.reshape((-1, 3))\n",
    "# convert to float\n",
    "pixel_values = np.float32(pixel_values)\n",
    "\n",
    "# define stopping criteria\n",
    "criteria = (cv2.TERM_CRITERIA_EPS + cv2.TERM_CRITERIA_MAX_ITER, 100, 0.2)\n",
    "\n",
    "# number of clusters (K)\n",
    "k = 3\n",
    "_, labels, (centers) = cv2.kmeans(pixel_values, k, None, criteria, 10, cv2.KMEANS_PP_CENTERS)\n",
    "\n",
    "# convert back to 8 bit values\n",
    "centers = np.uint8(centers)\n",
    "\n",
    "# flatten the labels array\n",
    "labels = labels.flatten()\n",
    "\n",
    "# convert all pixels to the color of the centroids\n",
    "segmented_image = centers[labels.flatten()]\n",
    "\n",
    "# reshape back to the original image dimension\n",
    "segmented_image = segmented_image.reshape(image.shape)\n",
    "# show the image\n",
    "plt.imshow(segmented_image)\n",
    "plt.show()\n"
   ]
  },
  {
   "cell_type": "code",
   "execution_count": null,
   "metadata": {},
   "outputs": [],
   "source": []
  }
 ],
 "metadata": {
  "kernelspec": {
   "display_name": "Python 3.9.12 ('base')",
   "language": "python",
   "name": "python3"
  },
  "language_info": {
   "codemirror_mode": {
    "name": "ipython",
    "version": 3
   },
   "file_extension": ".py",
   "mimetype": "text/x-python",
   "name": "python",
   "nbconvert_exporter": "python",
   "pygments_lexer": "ipython3",
   "version": "3.9.15"
  },
  "orig_nbformat": 4,
  "vscode": {
   "interpreter": {
    "hash": "d806552c73594e19b5256aa25c99f7b7bb58fce6ee1bb443239333d0be767377"
   }
  }
 },
 "nbformat": 4,
 "nbformat_minor": 2
}
